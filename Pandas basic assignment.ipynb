{
 "cells": [
  {
   "cell_type": "markdown",
   "id": "674e8a24",
   "metadata": {},
   "source": [
    "##### Q1. Create a Pandas Series that contains the following data: 4, 8, 15, 16, 23, and 42. Then, print the series."
   ]
  },
  {
   "cell_type": "code",
   "execution_count": 1,
   "id": "566ee42f",
   "metadata": {},
   "outputs": [
    {
     "data": {
      "text/plain": [
       "0     4\n",
       "1     8\n",
       "2    15\n",
       "3    16\n",
       "4    23\n",
       "5    42\n",
       "dtype: int64"
      ]
     },
     "execution_count": 1,
     "metadata": {},
     "output_type": "execute_result"
    }
   ],
   "source": [
    "import pandas as pd\n",
    "data = [4,8,15,16,23,42]\n",
    "series_df = pd.Series(data)\n",
    "series_df"
   ]
  },
  {
   "cell_type": "markdown",
   "id": "e5b574dd",
   "metadata": {},
   "source": [
    "##### Q2. Create a variable of list type containing 10 elements in it, and apply pandas.Series function on the variable print it."
   ]
  },
  {
   "cell_type": "code",
   "execution_count": 2,
   "id": "9261801c",
   "metadata": {},
   "outputs": [
    {
     "data": {
      "text/plain": [
       "0     1\n",
       "1     2\n",
       "2     3\n",
       "3     4\n",
       "4     8\n",
       "5    15\n",
       "6    16\n",
       "7    23\n",
       "8    42\n",
       "9    54\n",
       "dtype: int64"
      ]
     },
     "execution_count": 2,
     "metadata": {},
     "output_type": "execute_result"
    }
   ],
   "source": [
    "data = [1, 2, 3, 4,8,15,16,23,42,54 ]\n",
    "series_df = pd.Series(data)\n",
    "series_df"
   ]
  },
  {
   "cell_type": "markdown",
   "id": "44def407",
   "metadata": {},
   "source": [
    "##### Q3. Create a Pandas DataFrame that contains the following data:"
   ]
  },
  {
   "cell_type": "code",
   "execution_count": 3,
   "id": "82d89381",
   "metadata": {},
   "outputs": [
    {
     "data": {
      "text/html": [
       "<div>\n",
       "<style scoped>\n",
       "    .dataframe tbody tr th:only-of-type {\n",
       "        vertical-align: middle;\n",
       "    }\n",
       "\n",
       "    .dataframe tbody tr th {\n",
       "        vertical-align: top;\n",
       "    }\n",
       "\n",
       "    .dataframe thead th {\n",
       "        text-align: right;\n",
       "    }\n",
       "</style>\n",
       "<table border=\"1\" class=\"dataframe\">\n",
       "  <thead>\n",
       "    <tr style=\"text-align: right;\">\n",
       "      <th></th>\n",
       "      <th>Name</th>\n",
       "      <th>Age</th>\n",
       "      <th>Gender</th>\n",
       "    </tr>\n",
       "  </thead>\n",
       "  <tbody>\n",
       "    <tr>\n",
       "      <th>0</th>\n",
       "      <td>Alice</td>\n",
       "      <td>25</td>\n",
       "      <td>Female</td>\n",
       "    </tr>\n",
       "    <tr>\n",
       "      <th>1</th>\n",
       "      <td>Bob</td>\n",
       "      <td>30</td>\n",
       "      <td>Male</td>\n",
       "    </tr>\n",
       "    <tr>\n",
       "      <th>2</th>\n",
       "      <td>Claire</td>\n",
       "      <td>27</td>\n",
       "      <td>Female</td>\n",
       "    </tr>\n",
       "  </tbody>\n",
       "</table>\n",
       "</div>"
      ],
      "text/plain": [
       "     Name  Age  Gender\n",
       "0   Alice   25  Female\n",
       "1     Bob   30    Male\n",
       "2  Claire   27  Female"
      ]
     },
     "execution_count": 3,
     "metadata": {},
     "output_type": "execute_result"
    }
   ],
   "source": [
    "data = {\"Name\": [ \"Alice\", \"Bob\", \"Claire\"],\n",
    "       \"Age\": [25,30,27],\n",
    "       \"Gender\": [\"Female\", \"Male\", \"Female\"]}\n",
    "\n",
    "df = pd.DataFrame(data)\n",
    "df"
   ]
  },
  {
   "cell_type": "markdown",
   "id": "396099eb",
   "metadata": {},
   "source": [
    "##### Q4. What is ‘DataFrame’ in pandas and how is it different from pandas.series? Explain with an example."
   ]
  },
  {
   "cell_type": "markdown",
   "id": "adc78f85",
   "metadata": {},
   "source": [
    "- In Pandas, a DataFrame is a two-dimensional, tabular data structure that is designed to store and manipulate data in a way that is similar to a spreadsheet or a SQL table. It is one of the core data structures in Pandas and is particularly well-suited for handling structured data. A DataFrame consists of rows and columns, where each column can be thought of as a Pandas Series.\n",
    "\n",
    " - DataFrame:\n",
    "\n",
    " - Two-dimensional structure with rows and columns. Can hold multiple columns of data, and each column can have a different data type. Commonly used for storing and working with structured data, such as data read from a CSV file, an Excel spreadsheet, or a SQL database.\n",
    "\n",
    " - Series:\n",
    "\n",
    " - One-dimensional data structure, similar to a NumPy array. Represents a single column or a single row of data within a DataFrame. Can hold data of a single data type."
   ]
  },
  {
   "cell_type": "markdown",
   "id": "616411f7",
   "metadata": {},
   "source": [
    "##### Q5. What are some common functions you can use to manipulate data in a Pandas DataFrame? Can you give an example of when you might use one of these functions?"
   ]
  },
  {
   "cell_type": "markdown",
   "id": "f77c60eb",
   "metadata": {},
   "source": [
    " - head() and tail():\n",
    "\n",
    "   - head(n) returns the first n rows of the DataFrame, while tail(n) returns the last n rows. These are useful for quickly inspecting the beginning and end of your data.\n",
    "   \n",
    "  - info():\n",
    "\n",
    "     - info() provides a summary of the DataFrame, including data types, non-null values, and memory usage. \n",
    "  - describe():\n",
    "\n",
    "     - describe() generates summary statistics for numerical columns, such as count, mean, standard deviation, minimum, and maximum.\n"
   ]
  },
  {
   "cell_type": "markdown",
   "id": "c3e267c0",
   "metadata": {},
   "source": [
    "##### Q6. Which of the following is mutable in nature Series, DataFrame, Panel?"
   ]
  },
  {
   "cell_type": "markdown",
   "id": "51ac0983",
   "metadata": {},
   "source": [
    " - Series is mutable: You can change the values of elements in a Pandas Series after it has been created. For example, you can modify individual elements by assigning new values to them.\n",
    "\n",
    " - DataFrame is mutable: Similar to Series, you can modify the values of individual cells or entire columns in a Pandas DataFrame. You can add or remove columns, change column names, and perform various data manipulation operations on a DataFrame.\n",
    "\n",
    " - Panel is not mutable: The Panel data structure used to exist in earlier versions of Pandas (before version 0.25.0), but it has been removed from the library. Panel was designed to handle three-dimensional data, and it was not as commonly used as Series and DataFrame."
   ]
  },
  {
   "cell_type": "markdown",
   "id": "0a20cea1",
   "metadata": {},
   "source": [
    "#### Q7. Create a DataFrame using multiple Series. Explain with an example."
   ]
  },
  {
   "cell_type": "code",
   "execution_count": 4,
   "id": "e6e9858a",
   "metadata": {},
   "outputs": [
    {
     "name": "stdout",
     "output_type": "stream",
     "text": [
      "  First Name  Age     City\n",
      "0      Alice   15    Accra\n",
      "1        Bob   30    Lagos\n",
      "2    Charlie   35    Miami\n",
      "3      David   40  Chicago\n"
     ]
    }
   ],
   "source": [
    "import pandas as pd\n",
    "\n",
    "# Create multiple Series\n",
    "first_names = pd.Series(['Alice', 'Bob', 'Charlie', 'David'])\n",
    "ages = pd.Series([15, 30, 35, 40])\n",
    "cities = pd.Series(['Accra', 'Lagos', 'Miami', 'Chicago'])\n",
    "\n",
    "# Create a DataFrame using the Series\n",
    "data = {\n",
    "    'First Name': first_names,\n",
    "    'Age': ages,\n",
    "    'City': cities\n",
    "}\n",
    "\n",
    "df = pd.DataFrame(data)\n",
    "\n",
    "# Display the DataFrame\n",
    "print(df)\n"
   ]
  },
  {
   "cell_type": "code",
   "execution_count": null,
   "id": "83d4ee7b",
   "metadata": {},
   "outputs": [],
   "source": []
  },
  {
   "cell_type": "code",
   "execution_count": null,
   "id": "f9c73bfd",
   "metadata": {},
   "outputs": [],
   "source": []
  },
  {
   "cell_type": "code",
   "execution_count": null,
   "id": "31d0eae0",
   "metadata": {},
   "outputs": [],
   "source": []
  },
  {
   "cell_type": "code",
   "execution_count": null,
   "id": "bdb82b5d",
   "metadata": {},
   "outputs": [],
   "source": []
  },
  {
   "cell_type": "code",
   "execution_count": null,
   "id": "30e79d2a",
   "metadata": {},
   "outputs": [],
   "source": []
  },
  {
   "cell_type": "code",
   "execution_count": null,
   "id": "3ba5a885",
   "metadata": {},
   "outputs": [],
   "source": []
  }
 ],
 "metadata": {
  "kernelspec": {
   "display_name": "Python 3 (ipykernel)",
   "language": "python",
   "name": "python3"
  },
  "language_info": {
   "codemirror_mode": {
    "name": "ipython",
    "version": 3
   },
   "file_extension": ".py",
   "mimetype": "text/x-python",
   "name": "python",
   "nbconvert_exporter": "python",
   "pygments_lexer": "ipython3",
   "version": "3.9.13"
  }
 },
 "nbformat": 4,
 "nbformat_minor": 5
}
