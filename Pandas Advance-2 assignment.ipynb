{
 "cells": [
  {
   "cell_type": "markdown",
   "id": "5f6ebbc2",
   "metadata": {},
   "source": [
    "import pandas as pd\n",
    "\n",
    "course_name = [‘Data Science’, ‘Machine Learning’, ‘Big Data’, ‘Data Engineer’]\n",
    "\n",
    "\n",
    "duration = [2,3,6,4]\n",
    "\n",
    "\n",
    "df = pd.DataFrame(data = {‘course_name’ : course_name, ‘duration’ : duration})\n",
    "\n",
    "\n",
    "#### Q1. Write a code to print the data present in the second row of the dataframe, df."
   ]
  },
  {
   "cell_type": "code",
   "execution_count": 1,
   "id": "6158dc2e",
   "metadata": {},
   "outputs": [
    {
     "data": {
      "text/plain": [
       "course_name    Machine Learning\n",
       "duration                      3\n",
       "Name: 1, dtype: object"
      ]
     },
     "execution_count": 1,
     "metadata": {},
     "output_type": "execute_result"
    }
   ],
   "source": [
    "import pandas as pd\n",
    "\n",
    "course_name = ['Data Science', 'Machine Learning', 'Big Data', 'Data Engineer']\n",
    "duration = [2, 3, 6, 4]\n",
    "df = pd.DataFrame(data={'course_name': course_name, 'duration': duration})\n",
    "df.iloc[1]"
   ]
  },
  {
   "cell_type": "markdown",
   "id": "03a819f1",
   "metadata": {},
   "source": [
    "#### Q2. What is the difference between the functions loc and iloc in pandas.DataFrame?"
   ]
  },
  {
   "cell_type": "markdown",
   "id": "25d5e66a",
   "metadata": {},
   "source": [
    " - loc (Label-based selection):\n",
    "        loc is primarily label-based, which means it uses labels or column names to select data from the DataFrame.\n",
    "        \n",
    " - iloc (Integer-based selection):\n",
    "\n",
    "        iloc is primarily integer-based, which means it uses integer positions (row and column numbers) to select data from the DataFrame."
   ]
  },
  {
   "cell_type": "markdown",
   "id": "bb207cb6",
   "metadata": {},
   "source": [
    "#### Q3. Reindex the given dataframe using a variable, reindex = [3,0,1,2] and store it in the variable, new_df then find the output for both new_df.loc[2] and new_df.iloc[2].\n",
    "\n",
    "Did you observe any difference in both the outputs? If so then explain it.\n",
    "Consider the below code to answer further questions:"
   ]
  },
  {
   "cell_type": "code",
   "execution_count": 2,
   "id": "19da29ff",
   "metadata": {},
   "outputs": [
    {
     "data": {
      "text/html": [
       "<div>\n",
       "<style scoped>\n",
       "    .dataframe tbody tr th:only-of-type {\n",
       "        vertical-align: middle;\n",
       "    }\n",
       "\n",
       "    .dataframe tbody tr th {\n",
       "        vertical-align: top;\n",
       "    }\n",
       "\n",
       "    .dataframe thead th {\n",
       "        text-align: right;\n",
       "    }\n",
       "</style>\n",
       "<table border=\"1\" class=\"dataframe\">\n",
       "  <thead>\n",
       "    <tr style=\"text-align: right;\">\n",
       "      <th></th>\n",
       "      <th>column_1</th>\n",
       "      <th>column_2</th>\n",
       "      <th>column_3</th>\n",
       "      <th>column_4</th>\n",
       "      <th>column_5</th>\n",
       "      <th>column_6</th>\n",
       "    </tr>\n",
       "  </thead>\n",
       "  <tbody>\n",
       "    <tr>\n",
       "      <th>1</th>\n",
       "      <td>0.706081</td>\n",
       "      <td>0.819408</td>\n",
       "      <td>0.861338</td>\n",
       "      <td>0.585955</td>\n",
       "      <td>0.785440</td>\n",
       "      <td>0.097599</td>\n",
       "    </tr>\n",
       "    <tr>\n",
       "      <th>2</th>\n",
       "      <td>0.457023</td>\n",
       "      <td>0.860115</td>\n",
       "      <td>0.827575</td>\n",
       "      <td>0.465698</td>\n",
       "      <td>0.158859</td>\n",
       "      <td>0.775661</td>\n",
       "    </tr>\n",
       "    <tr>\n",
       "      <th>3</th>\n",
       "      <td>0.715791</td>\n",
       "      <td>0.506302</td>\n",
       "      <td>0.107544</td>\n",
       "      <td>0.097118</td>\n",
       "      <td>0.104049</td>\n",
       "      <td>0.394497</td>\n",
       "    </tr>\n",
       "    <tr>\n",
       "      <th>4</th>\n",
       "      <td>0.646953</td>\n",
       "      <td>0.054611</td>\n",
       "      <td>0.255205</td>\n",
       "      <td>0.514244</td>\n",
       "      <td>0.482321</td>\n",
       "      <td>0.323276</td>\n",
       "    </tr>\n",
       "    <tr>\n",
       "      <th>5</th>\n",
       "      <td>0.217219</td>\n",
       "      <td>0.528113</td>\n",
       "      <td>0.607436</td>\n",
       "      <td>0.508461</td>\n",
       "      <td>0.838752</td>\n",
       "      <td>0.153147</td>\n",
       "    </tr>\n",
       "    <tr>\n",
       "      <th>6</th>\n",
       "      <td>0.929037</td>\n",
       "      <td>0.046833</td>\n",
       "      <td>0.732885</td>\n",
       "      <td>0.490812</td>\n",
       "      <td>0.078973</td>\n",
       "      <td>0.729903</td>\n",
       "    </tr>\n",
       "  </tbody>\n",
       "</table>\n",
       "</div>"
      ],
      "text/plain": [
       "   column_1  column_2  column_3  column_4  column_5  column_6\n",
       "1  0.706081  0.819408  0.861338  0.585955  0.785440  0.097599\n",
       "2  0.457023  0.860115  0.827575  0.465698  0.158859  0.775661\n",
       "3  0.715791  0.506302  0.107544  0.097118  0.104049  0.394497\n",
       "4  0.646953  0.054611  0.255205  0.514244  0.482321  0.323276\n",
       "5  0.217219  0.528113  0.607436  0.508461  0.838752  0.153147\n",
       "6  0.929037  0.046833  0.732885  0.490812  0.078973  0.729903"
      ]
     },
     "execution_count": 2,
     "metadata": {},
     "output_type": "execute_result"
    }
   ],
   "source": [
    "import pandas as pd\n",
    "import numpy as np\n",
    "columns = ['column_1', 'column_2', 'column_3', 'column_4', 'column_5', 'column_6']\n",
    "indices = [1,2,3,4,5,6]\n",
    "#Creating a dataframe:\n",
    "df = pd.DataFrame(np.random.rand(6,6), columns = columns, index = indices)\n",
    "df"
   ]
  },
  {
   "cell_type": "code",
   "execution_count": 5,
   "id": "a9aad506",
   "metadata": {},
   "outputs": [
    {
     "data": {
      "text/html": [
       "<div>\n",
       "<style scoped>\n",
       "    .dataframe tbody tr th:only-of-type {\n",
       "        vertical-align: middle;\n",
       "    }\n",
       "\n",
       "    .dataframe tbody tr th {\n",
       "        vertical-align: top;\n",
       "    }\n",
       "\n",
       "    .dataframe thead th {\n",
       "        text-align: right;\n",
       "    }\n",
       "</style>\n",
       "<table border=\"1\" class=\"dataframe\">\n",
       "  <thead>\n",
       "    <tr style=\"text-align: right;\">\n",
       "      <th></th>\n",
       "      <th>column_1</th>\n",
       "      <th>column_2</th>\n",
       "      <th>column_3</th>\n",
       "      <th>column_4</th>\n",
       "      <th>column_5</th>\n",
       "      <th>column_6</th>\n",
       "    </tr>\n",
       "  </thead>\n",
       "  <tbody>\n",
       "    <tr>\n",
       "      <th>3</th>\n",
       "      <td>0.715791</td>\n",
       "      <td>0.506302</td>\n",
       "      <td>0.107544</td>\n",
       "      <td>0.097118</td>\n",
       "      <td>0.104049</td>\n",
       "      <td>0.394497</td>\n",
       "    </tr>\n",
       "    <tr>\n",
       "      <th>0</th>\n",
       "      <td>NaN</td>\n",
       "      <td>NaN</td>\n",
       "      <td>NaN</td>\n",
       "      <td>NaN</td>\n",
       "      <td>NaN</td>\n",
       "      <td>NaN</td>\n",
       "    </tr>\n",
       "    <tr>\n",
       "      <th>1</th>\n",
       "      <td>0.706081</td>\n",
       "      <td>0.819408</td>\n",
       "      <td>0.861338</td>\n",
       "      <td>0.585955</td>\n",
       "      <td>0.785440</td>\n",
       "      <td>0.097599</td>\n",
       "    </tr>\n",
       "    <tr>\n",
       "      <th>2</th>\n",
       "      <td>0.457023</td>\n",
       "      <td>0.860115</td>\n",
       "      <td>0.827575</td>\n",
       "      <td>0.465698</td>\n",
       "      <td>0.158859</td>\n",
       "      <td>0.775661</td>\n",
       "    </tr>\n",
       "  </tbody>\n",
       "</table>\n",
       "</div>"
      ],
      "text/plain": [
       "   column_1  column_2  column_3  column_4  column_5  column_6\n",
       "3  0.715791  0.506302  0.107544  0.097118  0.104049  0.394497\n",
       "0       NaN       NaN       NaN       NaN       NaN       NaN\n",
       "1  0.706081  0.819408  0.861338  0.585955  0.785440  0.097599\n",
       "2  0.457023  0.860115  0.827575  0.465698  0.158859  0.775661"
      ]
     },
     "execution_count": 5,
     "metadata": {},
     "output_type": "execute_result"
    }
   ],
   "source": [
    "reindex=[3,0,1,2]\n",
    "new_df = df.reindex(reindex)\n",
    "new_df"
   ]
  },
  {
   "cell_type": "code",
   "execution_count": 6,
   "id": "eb09caa5",
   "metadata": {},
   "outputs": [
    {
     "data": {
      "text/plain": [
       "column_1    0.457023\n",
       "column_2    0.860115\n",
       "column_3    0.827575\n",
       "column_4    0.465698\n",
       "column_5    0.158859\n",
       "column_6    0.775661\n",
       "Name: 2, dtype: float64"
      ]
     },
     "execution_count": 6,
     "metadata": {},
     "output_type": "execute_result"
    }
   ],
   "source": [
    "# new_df.loc[2] will access the row with label 2.\n",
    "result_loc = new_df.loc[2]\n",
    "result_loc"
   ]
  },
  {
   "cell_type": "code",
   "execution_count": 8,
   "id": "42a39721",
   "metadata": {},
   "outputs": [
    {
     "data": {
      "text/plain": [
       "column_1    0.706081\n",
       "column_2    0.819408\n",
       "column_3    0.861338\n",
       "column_4    0.585955\n",
       "column_5    0.785440\n",
       "column_6    0.097599\n",
       "Name: 1, dtype: float64"
      ]
     },
     "execution_count": 8,
     "metadata": {},
     "output_type": "execute_result"
    }
   ],
   "source": [
    "# new_df.iloc[2] will access the third row, considering 0-based indexing.\n",
    "result_iloc = new_df.iloc[2]\n",
    "result_iloc"
   ]
  },
  {
   "cell_type": "markdown",
   "id": "75e3a7bc",
   "metadata": {},
   "source": [
    "#### Q4. Write a code to find the following statistical measurements for the above dataframe df1:\n",
    " - (i) mean of each and every column present in the dataframe.\n",
    " - (ii) standard deviation of column, ‘column_2’"
   ]
  },
  {
   "cell_type": "code",
   "execution_count": 9,
   "id": "e998b800",
   "metadata": {},
   "outputs": [
    {
     "data": {
      "text/plain": [
       "column_1    0.612017\n",
       "column_2    0.469230\n",
       "column_3    0.565330\n",
       "column_4    0.443715\n",
       "column_5    0.408066\n",
       "column_6    0.412347\n",
       "dtype: float64"
      ]
     },
     "execution_count": 9,
     "metadata": {},
     "output_type": "execute_result"
    }
   ],
   "source": [
    "# (i)\n",
    "\n",
    "df.mean()"
   ]
  },
  {
   "cell_type": "code",
   "execution_count": 11,
   "id": "123cc408",
   "metadata": {},
   "outputs": [
    {
     "data": {
      "text/plain": [
       "0.3551298248661703"
      ]
     },
     "execution_count": 11,
     "metadata": {},
     "output_type": "execute_result"
    }
   ],
   "source": [
    "#(ii)\n",
    "\n",
    "df[\"column_2\"].std()"
   ]
  },
  {
   "cell_type": "markdown",
   "id": "ab9ec777",
   "metadata": {},
   "source": [
    "#### Q5. Replace the data present in the second row of column, ‘column_2’ by a string variable then find the mean of column, column_2.\n",
    " - If you are getting errors in executing it then explain why.\n",
    " - [Hint: To replace the data use df1.loc[] and equate this to string data of your choice.]"
   ]
  },
  {
   "cell_type": "code",
   "execution_count": 28,
   "id": "279dc02a",
   "metadata": {},
   "outputs": [],
   "source": [
    "df.loc[2, \"column_2\"] = \"alfred\""
   ]
  },
  {
   "cell_type": "code",
   "execution_count": 29,
   "id": "b15c4c19",
   "metadata": {},
   "outputs": [
    {
     "data": {
      "text/html": [
       "<div>\n",
       "<style scoped>\n",
       "    .dataframe tbody tr th:only-of-type {\n",
       "        vertical-align: middle;\n",
       "    }\n",
       "\n",
       "    .dataframe tbody tr th {\n",
       "        vertical-align: top;\n",
       "    }\n",
       "\n",
       "    .dataframe thead th {\n",
       "        text-align: right;\n",
       "    }\n",
       "</style>\n",
       "<table border=\"1\" class=\"dataframe\">\n",
       "  <thead>\n",
       "    <tr style=\"text-align: right;\">\n",
       "      <th></th>\n",
       "      <th>column_1</th>\n",
       "      <th>column_2</th>\n",
       "      <th>column_3</th>\n",
       "      <th>column_4</th>\n",
       "      <th>column_5</th>\n",
       "      <th>column_6</th>\n",
       "    </tr>\n",
       "  </thead>\n",
       "  <tbody>\n",
       "    <tr>\n",
       "      <th>1</th>\n",
       "      <td>0.706081</td>\n",
       "      <td>0.819408</td>\n",
       "      <td>0.861338</td>\n",
       "      <td>0.585955</td>\n",
       "      <td>0.785440</td>\n",
       "      <td>0.097599</td>\n",
       "    </tr>\n",
       "    <tr>\n",
       "      <th>2</th>\n",
       "      <td>0.457023</td>\n",
       "      <td>alfred</td>\n",
       "      <td>0.827575</td>\n",
       "      <td>0.465698</td>\n",
       "      <td>0.158859</td>\n",
       "      <td>0.775661</td>\n",
       "    </tr>\n",
       "    <tr>\n",
       "      <th>3</th>\n",
       "      <td>0.715791</td>\n",
       "      <td>0.506302</td>\n",
       "      <td>0.107544</td>\n",
       "      <td>0.097118</td>\n",
       "      <td>0.104049</td>\n",
       "      <td>0.394497</td>\n",
       "    </tr>\n",
       "    <tr>\n",
       "      <th>4</th>\n",
       "      <td>0.646953</td>\n",
       "      <td>0.054611</td>\n",
       "      <td>0.255205</td>\n",
       "      <td>0.514244</td>\n",
       "      <td>0.482321</td>\n",
       "      <td>0.323276</td>\n",
       "    </tr>\n",
       "    <tr>\n",
       "      <th>5</th>\n",
       "      <td>0.217219</td>\n",
       "      <td>0.528113</td>\n",
       "      <td>0.607436</td>\n",
       "      <td>0.508461</td>\n",
       "      <td>0.838752</td>\n",
       "      <td>0.153147</td>\n",
       "    </tr>\n",
       "    <tr>\n",
       "      <th>6</th>\n",
       "      <td>0.929037</td>\n",
       "      <td>0.046833</td>\n",
       "      <td>0.732885</td>\n",
       "      <td>0.490812</td>\n",
       "      <td>0.078973</td>\n",
       "      <td>0.729903</td>\n",
       "    </tr>\n",
       "  </tbody>\n",
       "</table>\n",
       "</div>"
      ],
      "text/plain": [
       "   column_1  column_2  column_3  column_4  column_5  column_6\n",
       "1  0.706081  0.819408  0.861338  0.585955  0.785440  0.097599\n",
       "2  0.457023    alfred  0.827575  0.465698  0.158859  0.775661\n",
       "3  0.715791  0.506302  0.107544  0.097118  0.104049  0.394497\n",
       "4  0.646953  0.054611  0.255205  0.514244  0.482321  0.323276\n",
       "5  0.217219  0.528113  0.607436  0.508461  0.838752  0.153147\n",
       "6  0.929037  0.046833  0.732885  0.490812  0.078973  0.729903"
      ]
     },
     "execution_count": 29,
     "metadata": {},
     "output_type": "execute_result"
    }
   ],
   "source": [
    "df"
   ]
  },
  {
   "cell_type": "code",
   "execution_count": 30,
   "id": "1438cd5b",
   "metadata": {},
   "outputs": [
    {
     "ename": "TypeError",
     "evalue": "unsupported operand type(s) for +: 'float' and 'str'",
     "output_type": "error",
     "traceback": [
      "\u001b[1;31m---------------------------------------------------------------------------\u001b[0m",
      "\u001b[1;31mTypeError\u001b[0m                                 Traceback (most recent call last)",
      "\u001b[1;32m~\\AppData\\Local\\Temp\\ipykernel_16924\\2994347885.py\u001b[0m in \u001b[0;36m<module>\u001b[1;34m\u001b[0m\n\u001b[1;32m----> 1\u001b[1;33m \u001b[0mdf\u001b[0m\u001b[1;33m[\u001b[0m\u001b[1;34m\"column_2\"\u001b[0m\u001b[1;33m]\u001b[0m\u001b[1;33m.\u001b[0m\u001b[0mmean\u001b[0m\u001b[1;33m(\u001b[0m\u001b[1;33m)\u001b[0m\u001b[1;33m\u001b[0m\u001b[1;33m\u001b[0m\u001b[0m\n\u001b[0m",
      "\u001b[1;32m~\\Anaconda3\\lib\\site-packages\\pandas\\core\\generic.py\u001b[0m in \u001b[0;36mmean\u001b[1;34m(self, axis, skipna, level, numeric_only, **kwargs)\u001b[0m\n\u001b[0;32m  11122\u001b[0m             \u001b[1;33m**\u001b[0m\u001b[0mkwargs\u001b[0m\u001b[1;33m,\u001b[0m\u001b[1;33m\u001b[0m\u001b[1;33m\u001b[0m\u001b[0m\n\u001b[0;32m  11123\u001b[0m         ):\n\u001b[1;32m> 11124\u001b[1;33m             \u001b[1;32mreturn\u001b[0m \u001b[0mNDFrame\u001b[0m\u001b[1;33m.\u001b[0m\u001b[0mmean\u001b[0m\u001b[1;33m(\u001b[0m\u001b[0mself\u001b[0m\u001b[1;33m,\u001b[0m \u001b[0maxis\u001b[0m\u001b[1;33m,\u001b[0m \u001b[0mskipna\u001b[0m\u001b[1;33m,\u001b[0m \u001b[0mlevel\u001b[0m\u001b[1;33m,\u001b[0m \u001b[0mnumeric_only\u001b[0m\u001b[1;33m,\u001b[0m \u001b[1;33m**\u001b[0m\u001b[0mkwargs\u001b[0m\u001b[1;33m)\u001b[0m\u001b[1;33m\u001b[0m\u001b[1;33m\u001b[0m\u001b[0m\n\u001b[0m\u001b[0;32m  11125\u001b[0m \u001b[1;33m\u001b[0m\u001b[0m\n\u001b[0;32m  11126\u001b[0m         \u001b[0msetattr\u001b[0m\u001b[1;33m(\u001b[0m\u001b[0mcls\u001b[0m\u001b[1;33m,\u001b[0m \u001b[1;34m\"mean\"\u001b[0m\u001b[1;33m,\u001b[0m \u001b[0mmean\u001b[0m\u001b[1;33m)\u001b[0m\u001b[1;33m\u001b[0m\u001b[1;33m\u001b[0m\u001b[0m\n",
      "\u001b[1;32m~\\Anaconda3\\lib\\site-packages\\pandas\\core\\generic.py\u001b[0m in \u001b[0;36mmean\u001b[1;34m(self, axis, skipna, level, numeric_only, **kwargs)\u001b[0m\n\u001b[0;32m  10692\u001b[0m         \u001b[1;33m**\u001b[0m\u001b[0mkwargs\u001b[0m\u001b[1;33m,\u001b[0m\u001b[1;33m\u001b[0m\u001b[1;33m\u001b[0m\u001b[0m\n\u001b[0;32m  10693\u001b[0m     ) -> Series | float:\n\u001b[1;32m> 10694\u001b[1;33m         return self._stat_function(\n\u001b[0m\u001b[0;32m  10695\u001b[0m             \u001b[1;34m\"mean\"\u001b[0m\u001b[1;33m,\u001b[0m \u001b[0mnanops\u001b[0m\u001b[1;33m.\u001b[0m\u001b[0mnanmean\u001b[0m\u001b[1;33m,\u001b[0m \u001b[0maxis\u001b[0m\u001b[1;33m,\u001b[0m \u001b[0mskipna\u001b[0m\u001b[1;33m,\u001b[0m \u001b[0mlevel\u001b[0m\u001b[1;33m,\u001b[0m \u001b[0mnumeric_only\u001b[0m\u001b[1;33m,\u001b[0m \u001b[1;33m**\u001b[0m\u001b[0mkwargs\u001b[0m\u001b[1;33m\u001b[0m\u001b[1;33m\u001b[0m\u001b[0m\n\u001b[0;32m  10696\u001b[0m         )\n",
      "\u001b[1;32m~\\Anaconda3\\lib\\site-packages\\pandas\\core\\generic.py\u001b[0m in \u001b[0;36m_stat_function\u001b[1;34m(self, name, func, axis, skipna, level, numeric_only, **kwargs)\u001b[0m\n\u001b[0;32m  10644\u001b[0m                 \u001b[0mname\u001b[0m\u001b[1;33m,\u001b[0m \u001b[0maxis\u001b[0m\u001b[1;33m=\u001b[0m\u001b[0maxis\u001b[0m\u001b[1;33m,\u001b[0m \u001b[0mlevel\u001b[0m\u001b[1;33m=\u001b[0m\u001b[0mlevel\u001b[0m\u001b[1;33m,\u001b[0m \u001b[0mskipna\u001b[0m\u001b[1;33m=\u001b[0m\u001b[0mskipna\u001b[0m\u001b[1;33m,\u001b[0m \u001b[0mnumeric_only\u001b[0m\u001b[1;33m=\u001b[0m\u001b[0mnumeric_only\u001b[0m\u001b[1;33m\u001b[0m\u001b[1;33m\u001b[0m\u001b[0m\n\u001b[0;32m  10645\u001b[0m             )\n\u001b[1;32m> 10646\u001b[1;33m         return self._reduce(\n\u001b[0m\u001b[0;32m  10647\u001b[0m             \u001b[0mfunc\u001b[0m\u001b[1;33m,\u001b[0m \u001b[0mname\u001b[0m\u001b[1;33m=\u001b[0m\u001b[0mname\u001b[0m\u001b[1;33m,\u001b[0m \u001b[0maxis\u001b[0m\u001b[1;33m=\u001b[0m\u001b[0maxis\u001b[0m\u001b[1;33m,\u001b[0m \u001b[0mskipna\u001b[0m\u001b[1;33m=\u001b[0m\u001b[0mskipna\u001b[0m\u001b[1;33m,\u001b[0m \u001b[0mnumeric_only\u001b[0m\u001b[1;33m=\u001b[0m\u001b[0mnumeric_only\u001b[0m\u001b[1;33m\u001b[0m\u001b[1;33m\u001b[0m\u001b[0m\n\u001b[0;32m  10648\u001b[0m         )\n",
      "\u001b[1;32m~\\Anaconda3\\lib\\site-packages\\pandas\\core\\series.py\u001b[0m in \u001b[0;36m_reduce\u001b[1;34m(self, op, name, axis, skipna, numeric_only, filter_type, **kwds)\u001b[0m\n\u001b[0;32m   4469\u001b[0m                 )\n\u001b[0;32m   4470\u001b[0m             \u001b[1;32mwith\u001b[0m \u001b[0mnp\u001b[0m\u001b[1;33m.\u001b[0m\u001b[0merrstate\u001b[0m\u001b[1;33m(\u001b[0m\u001b[0mall\u001b[0m\u001b[1;33m=\u001b[0m\u001b[1;34m\"ignore\"\u001b[0m\u001b[1;33m)\u001b[0m\u001b[1;33m:\u001b[0m\u001b[1;33m\u001b[0m\u001b[1;33m\u001b[0m\u001b[0m\n\u001b[1;32m-> 4471\u001b[1;33m                 \u001b[1;32mreturn\u001b[0m \u001b[0mop\u001b[0m\u001b[1;33m(\u001b[0m\u001b[0mdelegate\u001b[0m\u001b[1;33m,\u001b[0m \u001b[0mskipna\u001b[0m\u001b[1;33m=\u001b[0m\u001b[0mskipna\u001b[0m\u001b[1;33m,\u001b[0m \u001b[1;33m**\u001b[0m\u001b[0mkwds\u001b[0m\u001b[1;33m)\u001b[0m\u001b[1;33m\u001b[0m\u001b[1;33m\u001b[0m\u001b[0m\n\u001b[0m\u001b[0;32m   4472\u001b[0m \u001b[1;33m\u001b[0m\u001b[0m\n\u001b[0;32m   4473\u001b[0m     def _reindex_indexer(\n",
      "\u001b[1;32m~\\Anaconda3\\lib\\site-packages\\pandas\\core\\nanops.py\u001b[0m in \u001b[0;36m_f\u001b[1;34m(*args, **kwargs)\u001b[0m\n\u001b[0;32m     91\u001b[0m             \u001b[1;32mtry\u001b[0m\u001b[1;33m:\u001b[0m\u001b[1;33m\u001b[0m\u001b[1;33m\u001b[0m\u001b[0m\n\u001b[0;32m     92\u001b[0m                 \u001b[1;32mwith\u001b[0m \u001b[0mnp\u001b[0m\u001b[1;33m.\u001b[0m\u001b[0merrstate\u001b[0m\u001b[1;33m(\u001b[0m\u001b[0minvalid\u001b[0m\u001b[1;33m=\u001b[0m\u001b[1;34m\"ignore\"\u001b[0m\u001b[1;33m)\u001b[0m\u001b[1;33m:\u001b[0m\u001b[1;33m\u001b[0m\u001b[1;33m\u001b[0m\u001b[0m\n\u001b[1;32m---> 93\u001b[1;33m                     \u001b[1;32mreturn\u001b[0m \u001b[0mf\u001b[0m\u001b[1;33m(\u001b[0m\u001b[1;33m*\u001b[0m\u001b[0margs\u001b[0m\u001b[1;33m,\u001b[0m \u001b[1;33m**\u001b[0m\u001b[0mkwargs\u001b[0m\u001b[1;33m)\u001b[0m\u001b[1;33m\u001b[0m\u001b[1;33m\u001b[0m\u001b[0m\n\u001b[0m\u001b[0;32m     94\u001b[0m             \u001b[1;32mexcept\u001b[0m \u001b[0mValueError\u001b[0m \u001b[1;32mas\u001b[0m \u001b[0me\u001b[0m\u001b[1;33m:\u001b[0m\u001b[1;33m\u001b[0m\u001b[1;33m\u001b[0m\u001b[0m\n\u001b[0;32m     95\u001b[0m                 \u001b[1;31m# we want to transform an object array\u001b[0m\u001b[1;33m\u001b[0m\u001b[1;33m\u001b[0m\u001b[0m\n",
      "\u001b[1;32m~\\Anaconda3\\lib\\site-packages\\pandas\\core\\nanops.py\u001b[0m in \u001b[0;36mf\u001b[1;34m(values, axis, skipna, **kwds)\u001b[0m\n\u001b[0;32m    153\u001b[0m                     \u001b[0mresult\u001b[0m \u001b[1;33m=\u001b[0m \u001b[0malt\u001b[0m\u001b[1;33m(\u001b[0m\u001b[0mvalues\u001b[0m\u001b[1;33m,\u001b[0m \u001b[0maxis\u001b[0m\u001b[1;33m=\u001b[0m\u001b[0maxis\u001b[0m\u001b[1;33m,\u001b[0m \u001b[0mskipna\u001b[0m\u001b[1;33m=\u001b[0m\u001b[0mskipna\u001b[0m\u001b[1;33m,\u001b[0m \u001b[1;33m**\u001b[0m\u001b[0mkwds\u001b[0m\u001b[1;33m)\u001b[0m\u001b[1;33m\u001b[0m\u001b[1;33m\u001b[0m\u001b[0m\n\u001b[0;32m    154\u001b[0m             \u001b[1;32melse\u001b[0m\u001b[1;33m:\u001b[0m\u001b[1;33m\u001b[0m\u001b[1;33m\u001b[0m\u001b[0m\n\u001b[1;32m--> 155\u001b[1;33m                 \u001b[0mresult\u001b[0m \u001b[1;33m=\u001b[0m \u001b[0malt\u001b[0m\u001b[1;33m(\u001b[0m\u001b[0mvalues\u001b[0m\u001b[1;33m,\u001b[0m \u001b[0maxis\u001b[0m\u001b[1;33m=\u001b[0m\u001b[0maxis\u001b[0m\u001b[1;33m,\u001b[0m \u001b[0mskipna\u001b[0m\u001b[1;33m=\u001b[0m\u001b[0mskipna\u001b[0m\u001b[1;33m,\u001b[0m \u001b[1;33m**\u001b[0m\u001b[0mkwds\u001b[0m\u001b[1;33m)\u001b[0m\u001b[1;33m\u001b[0m\u001b[1;33m\u001b[0m\u001b[0m\n\u001b[0m\u001b[0;32m    156\u001b[0m \u001b[1;33m\u001b[0m\u001b[0m\n\u001b[0;32m    157\u001b[0m             \u001b[1;32mreturn\u001b[0m \u001b[0mresult\u001b[0m\u001b[1;33m\u001b[0m\u001b[1;33m\u001b[0m\u001b[0m\n",
      "\u001b[1;32m~\\Anaconda3\\lib\\site-packages\\pandas\\core\\nanops.py\u001b[0m in \u001b[0;36mnew_func\u001b[1;34m(values, axis, skipna, mask, **kwargs)\u001b[0m\n\u001b[0;32m    408\u001b[0m             \u001b[0mmask\u001b[0m \u001b[1;33m=\u001b[0m \u001b[0misna\u001b[0m\u001b[1;33m(\u001b[0m\u001b[0mvalues\u001b[0m\u001b[1;33m)\u001b[0m\u001b[1;33m\u001b[0m\u001b[1;33m\u001b[0m\u001b[0m\n\u001b[0;32m    409\u001b[0m \u001b[1;33m\u001b[0m\u001b[0m\n\u001b[1;32m--> 410\u001b[1;33m         \u001b[0mresult\u001b[0m \u001b[1;33m=\u001b[0m \u001b[0mfunc\u001b[0m\u001b[1;33m(\u001b[0m\u001b[0mvalues\u001b[0m\u001b[1;33m,\u001b[0m \u001b[0maxis\u001b[0m\u001b[1;33m=\u001b[0m\u001b[0maxis\u001b[0m\u001b[1;33m,\u001b[0m \u001b[0mskipna\u001b[0m\u001b[1;33m=\u001b[0m\u001b[0mskipna\u001b[0m\u001b[1;33m,\u001b[0m \u001b[0mmask\u001b[0m\u001b[1;33m=\u001b[0m\u001b[0mmask\u001b[0m\u001b[1;33m,\u001b[0m \u001b[1;33m**\u001b[0m\u001b[0mkwargs\u001b[0m\u001b[1;33m)\u001b[0m\u001b[1;33m\u001b[0m\u001b[1;33m\u001b[0m\u001b[0m\n\u001b[0m\u001b[0;32m    411\u001b[0m \u001b[1;33m\u001b[0m\u001b[0m\n\u001b[0;32m    412\u001b[0m         \u001b[1;32mif\u001b[0m \u001b[0mdatetimelike\u001b[0m\u001b[1;33m:\u001b[0m\u001b[1;33m\u001b[0m\u001b[1;33m\u001b[0m\u001b[0m\n",
      "\u001b[1;32m~\\Anaconda3\\lib\\site-packages\\pandas\\core\\nanops.py\u001b[0m in \u001b[0;36mnanmean\u001b[1;34m(values, axis, skipna, mask)\u001b[0m\n\u001b[0;32m    696\u001b[0m \u001b[1;33m\u001b[0m\u001b[0m\n\u001b[0;32m    697\u001b[0m     \u001b[0mcount\u001b[0m \u001b[1;33m=\u001b[0m \u001b[0m_get_counts\u001b[0m\u001b[1;33m(\u001b[0m\u001b[0mvalues\u001b[0m\u001b[1;33m.\u001b[0m\u001b[0mshape\u001b[0m\u001b[1;33m,\u001b[0m \u001b[0mmask\u001b[0m\u001b[1;33m,\u001b[0m \u001b[0maxis\u001b[0m\u001b[1;33m,\u001b[0m \u001b[0mdtype\u001b[0m\u001b[1;33m=\u001b[0m\u001b[0mdtype_count\u001b[0m\u001b[1;33m)\u001b[0m\u001b[1;33m\u001b[0m\u001b[1;33m\u001b[0m\u001b[0m\n\u001b[1;32m--> 698\u001b[1;33m     \u001b[0mthe_sum\u001b[0m \u001b[1;33m=\u001b[0m \u001b[0m_ensure_numeric\u001b[0m\u001b[1;33m(\u001b[0m\u001b[0mvalues\u001b[0m\u001b[1;33m.\u001b[0m\u001b[0msum\u001b[0m\u001b[1;33m(\u001b[0m\u001b[0maxis\u001b[0m\u001b[1;33m,\u001b[0m \u001b[0mdtype\u001b[0m\u001b[1;33m=\u001b[0m\u001b[0mdtype_sum\u001b[0m\u001b[1;33m)\u001b[0m\u001b[1;33m)\u001b[0m\u001b[1;33m\u001b[0m\u001b[1;33m\u001b[0m\u001b[0m\n\u001b[0m\u001b[0;32m    699\u001b[0m \u001b[1;33m\u001b[0m\u001b[0m\n\u001b[0;32m    700\u001b[0m     \u001b[1;32mif\u001b[0m \u001b[0maxis\u001b[0m \u001b[1;32mis\u001b[0m \u001b[1;32mnot\u001b[0m \u001b[1;32mNone\u001b[0m \u001b[1;32mand\u001b[0m \u001b[0mgetattr\u001b[0m\u001b[1;33m(\u001b[0m\u001b[0mthe_sum\u001b[0m\u001b[1;33m,\u001b[0m \u001b[1;34m\"ndim\"\u001b[0m\u001b[1;33m,\u001b[0m \u001b[1;32mFalse\u001b[0m\u001b[1;33m)\u001b[0m\u001b[1;33m:\u001b[0m\u001b[1;33m\u001b[0m\u001b[1;33m\u001b[0m\u001b[0m\n",
      "\u001b[1;32m~\\Anaconda3\\lib\\site-packages\\numpy\\core\\_methods.py\u001b[0m in \u001b[0;36m_sum\u001b[1;34m(a, axis, dtype, out, keepdims, initial, where)\u001b[0m\n\u001b[0;32m     46\u001b[0m def _sum(a, axis=None, dtype=None, out=None, keepdims=False,\n\u001b[0;32m     47\u001b[0m          initial=_NoValue, where=True):\n\u001b[1;32m---> 48\u001b[1;33m     \u001b[1;32mreturn\u001b[0m \u001b[0mumr_sum\u001b[0m\u001b[1;33m(\u001b[0m\u001b[0ma\u001b[0m\u001b[1;33m,\u001b[0m \u001b[0maxis\u001b[0m\u001b[1;33m,\u001b[0m \u001b[0mdtype\u001b[0m\u001b[1;33m,\u001b[0m \u001b[0mout\u001b[0m\u001b[1;33m,\u001b[0m \u001b[0mkeepdims\u001b[0m\u001b[1;33m,\u001b[0m \u001b[0minitial\u001b[0m\u001b[1;33m,\u001b[0m \u001b[0mwhere\u001b[0m\u001b[1;33m)\u001b[0m\u001b[1;33m\u001b[0m\u001b[1;33m\u001b[0m\u001b[0m\n\u001b[0m\u001b[0;32m     49\u001b[0m \u001b[1;33m\u001b[0m\u001b[0m\n\u001b[0;32m     50\u001b[0m def _prod(a, axis=None, dtype=None, out=None, keepdims=False,\n",
      "\u001b[1;31mTypeError\u001b[0m: unsupported operand type(s) for +: 'float' and 'str'"
     ]
    }
   ],
   "source": [
    "df[\"column_2\"].mean()"
   ]
  },
  {
   "cell_type": "markdown",
   "id": "af0ca5b2",
   "metadata": {},
   "source": [
    "its unable to sum the column 2 and provide the mean because of the strings value \"alfred\""
   ]
  },
  {
   "cell_type": "markdown",
   "id": "255406f9",
   "metadata": {},
   "source": [
    "#### Q6. What do you understand about the windows function in pandas and list the types of windows functions?"
   ]
  },
  {
   "cell_type": "markdown",
   "id": "6ecb5047",
   "metadata": {},
   "source": [
    " - Pandas window functions, also known as rolling or expanding functions, are used for performing calculations over a specified window or range of data in a DataFrame or Series. These functions are particularly useful for time-series data or when you need to calculate statistics over a moving window of data. Some common window functions include mean, sum, min, max, etc. They allow you to calculate values for a subset of data, moving through the dataset, and perform operations like rolling means, cumulative sums, and more"
   ]
  },
  {
   "cell_type": "markdown",
   "id": "33ba6f17",
   "metadata": {},
   "source": [
    "#### Q7. Write a code to print only the current month and year at the time of answering this question.\n",
    "[Hint: Use pandas.datetime function]"
   ]
  },
  {
   "cell_type": "code",
   "execution_count": 31,
   "id": "fdf139d5",
   "metadata": {},
   "outputs": [
    {
     "name": "stderr",
     "output_type": "stream",
     "text": [
      "2023-10-25 15:28:20,363 [16924] WARNING  py.warnings:109: [JupyterRequire] C:\\Users\\ADOWUONA-OWOO\\Anaconda3\\lib\\site-packages\\pandas\\core\\arrays\\datetimes.py:2224: FutureWarning: The parsing of 'now' in pd.to_datetime without `utc=True` is deprecated. In a future version, this will match Timestamp('now') and Timestamp.now()\n",
      "  result, tz_parsed = tslib.array_to_datetime(\n",
      "\n"
     ]
    },
    {
     "name": "stdout",
     "output_type": "stream",
     "text": [
      "\n",
      "Current Month: October\n",
      "Current Year: 2023\n"
     ]
    }
   ],
   "source": [
    "# Get the current date and time\n",
    "current_datetime = pd.to_datetime('now')\n",
    "\n",
    "# Extract and print the current month and year\n",
    "current_month = current_datetime.strftime(\"%B\")\n",
    "current_year = current_datetime.strftime(\"%Y\")\n",
    "\n",
    "print(\"\\nCurrent Month:\", current_month)\n",
    "print(\"Current Year:\", current_year)"
   ]
  },
  {
   "cell_type": "markdown",
   "id": "eeae3a31",
   "metadata": {},
   "source": [
    "#### Q8. Write a Python program that takes in two dates as input (in the format YYYY-MM-DD) and calculates the difference between them in days, hours, and minutes using Pandas time delta. The program should prompt the user to enter the dates and display the result."
   ]
  },
  {
   "cell_type": "code",
   "execution_count": 38,
   "id": "b364eb99",
   "metadata": {},
   "outputs": [
    {
     "name": "stdout",
     "output_type": "stream",
     "text": [
      "Enter the first date (YYYY-MM-DD): 2017-10-01\n",
      "Enter the second date (YYYY-MM-DD): 2023-10-31\n",
      "Time Difference:\n",
      "Days: 2221 days\n",
      "Hours: 0 hours\n",
      "Minutes: 0 minutes\n"
     ]
    }
   ],
   "source": [
    "try:\n",
    "    date1 = pd.to_datetime(input(\"Enter the first date (YYYY-MM-DD): \"))\n",
    "    date2 = pd.to_datetime(input(\"Enter the second date (YYYY-MM-DD): \"))\n",
    "    \n",
    "    time_difference = date2 - date1\n",
    "    \n",
    "    days = time_difference.days\n",
    "    hours, seconds = divmod(time_difference.seconds, 3600)\n",
    "    minutes = seconds // 60\n",
    "    \n",
    "    print(f\"Time Difference:\")\n",
    "    print(f\"Days: {days} days\")\n",
    "    print(f\"Hours: {hours} hours\")\n",
    "    print(f\"Minutes: {minutes} minutes\")\n",
    "\n",
    "except ValueError:\n",
    "    print(\"Invalid date format. Please enter dates in the format 'YYYY-MM-DD'.\")"
   ]
  },
  {
   "cell_type": "markdown",
   "id": "0c60856b",
   "metadata": {},
   "source": [
    "#### Q9. Write a Python program that reads a CSV file containing categorical data and converts a specified column to a categorical data type. The program should prompt the user to enter the file path, column name, and category order, and then display the sorted data."
   ]
  },
  {
   "cell_type": "code",
   "execution_count": 54,
   "id": "95c52d5a",
   "metadata": {},
   "outputs": [
    {
     "name": "stdout",
     "output_type": "stream",
     "text": [
      "Enter the path to the CSV file: C:\\Users\\ADOWUONA-OWOO\\Desktop\\Python\\services.csv\n",
      "Enter the name of the column to convert to categorical: status\n",
      "Enter the category order (comma-separated, optional): \n",
      "\n",
      "Sorted Data:\n",
      "    id  location_id  program_id         accepted_payments  \\\n",
      "0    1            1         NaN                       NaN   \n",
      "18  19           19         NaN                       NaN   \n",
      "17  18           18         NaN                       NaN   \n",
      "16  17           17         NaN                       NaN   \n",
      "15  16           16         NaN                       NaN   \n",
      "14  15           15         NaN                       NaN   \n",
      "13  14           14         NaN                       NaN   \n",
      "12  13           13         NaN                       NaN   \n",
      "21  22           22         NaN  Cash, Check, Credit Card   \n",
      "10  11           11         NaN                       NaN   \n",
      "11  12           12         NaN                       NaN   \n",
      "8    9            9         NaN                       NaN   \n",
      "7    8            8         NaN                       NaN   \n",
      "6    7            7         NaN                       NaN   \n",
      "5    6            6         NaN                       NaN   \n",
      "4    5            5         NaN                       NaN   \n",
      "3    4            4         NaN                       NaN   \n",
      "2    3            3         NaN                       NaN   \n",
      "1    2            2         NaN                       NaN   \n",
      "9   10           10         NaN                       NaN   \n",
      "22  23           22         NaN                       NaN   \n",
      "19  20           20         NaN                       NaN   \n",
      "20  21           21         NaN                       NaN   \n",
      "\n",
      "           alternate_name                                application_process  \\\n",
      "0                     NaN                         Walk in or apply by phone.   \n",
      "18                    NaN     Call for screening appointment (650-347-3648).   \n",
      "17                    NaN  Call for screening appointment. Medical visits...   \n",
      "16                    NaN                              Call for information.   \n",
      "15                    NaN  Walk in. Written application, identification r...   \n",
      "14                    NaN          Walk in or through other agency referral.   \n",
      "13                    NaN  Call for appointment. Referral from human serv...   \n",
      "12                    NaN  Walk in. Proof of California residency require...   \n",
      "21  Fotos para pasaportes                  Walk in or apply by phone or mail   \n",
      "10                    NaN  Walk in. Proof of California residency require...   \n",
      "11                    NaN  Walk in or apply by phone, email or webpage re...   \n",
      "8                     NaN  Walk in. Proof of residency in California requ...   \n",
      "7                     NaN                                    Apply by phone.   \n",
      "6                     NaN  Apply by phone or be referred by a doctor, soc...   \n",
      "5                     NaN  Walk in or apply by phone for membership appli...   \n",
      "4                     NaN                             Phone for information.   \n",
      "3                     NaN                                    Apply by phone.   \n",
      "2                     NaN        Phone for information (403-4300 Ext. 4322).   \n",
      "1                     NaN                 Apply by phone for an appointment.   \n",
      "9                     NaN  Walk in. Proof of California residency to rece...   \n",
      "22                    NaN                  Walk in or apply by phone or mail   \n",
      "19                    NaN                                           Walk in.   \n",
      "20                    NaN                    By phone during business hours.   \n",
      "\n",
      "                                             audience  \\\n",
      "0   Older adults age 55 or over, ethnic minorities...   \n",
      "18                                                NaN   \n",
      "17                                                NaN   \n",
      "16                                                NaN   \n",
      "15                                                NaN   \n",
      "14  Adult alcoholic/drug addictive men and women w...   \n",
      "13  Individuals or families with low or no income ...   \n",
      "12                                                NaN   \n",
      "21  Profit and nonprofit businesses, the public, m...   \n",
      "10                                                NaN   \n",
      "11  Adults, parents, children in 1st-12th grades i...   \n",
      "8      Ethnic minorities, especially Spanish speaking   \n",
      "7   Senior citizens age 60 or over, disabled indiv...   \n",
      "6   Older adults who have memory or sensory loss, ...   \n",
      "5                                             Any age   \n",
      "4   Low-income working families with children tran...   \n",
      "3   Parents, children, families with problems of c...   \n",
      "2   Older adults age 55 or over who can benefit fr...   \n",
      "1        Residents of San Mateo County age 55 or over   \n",
      "9                                                 NaN   \n",
      "22  Second service and nonprofit businesses, the p...   \n",
      "19                                                NaN   \n",
      "20                                                NaN   \n",
      "\n",
      "                                          description  \\\n",
      "0   A walk-in center for older adults that provide...   \n",
      "18  Provides free medical and dental care to those...   \n",
      "17  By appointment only, Project Smile provides a ...   \n",
      "16  Provides emergency food, clothing and furnitur...   \n",
      "15  Provides emergency assistance including food a...   \n",
      "14  Provides a long-term (6-12 month) residential ...   \n",
      "13  Provides food, clothing, bus tokens and shelte...   \n",
      "12  Provides general reading materials, including ...   \n",
      "21  [NOTE THIS IS NOT A REAL SERVICE--THIS IS FOR ...   \n",
      "10  Provides general reading materials, including ...   \n",
      "11  Offers an intergenerational literacy program f...   \n",
      "8   Provides general reading material, including b...   \n",
      "7   Delivers a hot meal to the home of persons age...   \n",
      "6   Rosener House is a day center for older adults...   \n",
      "5   A multipurpose center offering a wide variety ...   \n",
      "4   Provides fixed 8% short term loans to eligible...   \n",
      "3   Provides supervised visitation services and a ...   \n",
      "2   Offers supportive counseling services to San M...   \n",
      "1   Provides training and job placement to eligibl...   \n",
      "9   Provides general reading and media materials, ...   \n",
      "22  [NOTE THIS IS NOT A REAL ORGANIZATION--THIS IS...   \n",
      "19              no unrequired fields for this service   \n",
      "20                                just a test service   \n",
      "\n",
      "                                          eligibility                  email  \\\n",
      "0   Age 55 or over for most programs, age 60 or ov...                    NaN   \n",
      "18    Low-income person without access to health care                    NaN   \n",
      "17    Low-income person without access to health care                    NaN   \n",
      "16                                Low-income families                    NaN   \n",
      "15                      None for emergency assistance                    NaN   \n",
      "14  Age 21-60, detoxed, physically able and willin...                    NaN   \n",
      "13  None for most services. For emergency assistan...                    NaN   \n",
      "12    Resident of California to obtain a library card                    NaN   \n",
      "21                                               None  passports@example.org   \n",
      "10  Resident of California to obtain a library car...                    NaN   \n",
      "11  English-speaking adult reading at or below 7th...                    NaN   \n",
      "8     Resident of California to obtain a library card                    NaN   \n",
      "7             Homebound person unable to cook or shop                    NaN   \n",
      "6                                      Age 18 or over                    NaN   \n",
      "5                                                None                    NaN   \n",
      "4   Eligibility: Low-income family with legal cust...                    NaN   \n",
      "3                                                None                    NaN   \n",
      "2         Resident of San Mateo County age 55 or over                    NaN   \n",
      "1   Age 55 or over, county resident and willing an...                    NaN   \n",
      "9             Resident of California to obtain a card                    NaN   \n",
      "22                                               None                    NaN   \n",
      "19                                                NaN                    NaN   \n",
      "20                                                NaN                    NaN   \n",
      "\n",
      "    ...                                           keywords languages  \\\n",
      "0   ...  ADULT PROTECTION AND CARE SERVICES, Meal Sites...       NaN   \n",
      "18  ...  HEALTH SERVICES, Outpatient Care, Community Cl...       NaN   \n",
      "17  ...  HEALTH SERVICES, Outpatient Care, Community Cl...       NaN   \n",
      "16  ...  COMMODITY SERVICES, Clothing/Personal Items, C...       NaN   \n",
      "15  ...  COMMODITY SERVICES, Clothing/Personal Items, C...       NaN   \n",
      "14  ...  ALCOHOLISM SERVICES, Residential Care, DRUG AB...       NaN   \n",
      "13  ...  COMMUNITY SERVICES, Interpretation/Translation...       NaN   \n",
      "12  ...  EDUCATION SERVICES, Library, Libraries, Public...       NaN   \n",
      "21  ...                                    Salud, Medicina   Spanish   \n",
      "10  ...  EDUCATION SERVICES, Library, Libraries, Public...       NaN   \n",
      "11  ...  EDUCATION SERVICES, Adult, Alternative, Litera...       NaN   \n",
      "8   ...  EDUCATION SERVICES, Library, Libraries, Public...       NaN   \n",
      "7   ...  ADULT PROTECTION AND CARE SERVICES, Meal Sites...       NaN   \n",
      "6   ...  ADULT PROTECTION AND CARE SERVICES, Adult Day ...       NaN   \n",
      "5   ...  ADULT PROTECTION AND CARE SERVICES, In-Home Su...       NaN   \n",
      "4   ...     COMMUNITY SERVICES, Speakers, Automobile Loans       NaN   \n",
      "3   ...  INDIVIDUAL AND FAMILY DEVELOPMENT SERVICES, Gr...       NaN   \n",
      "2   ...  Geriatric Counseling, Older Adults, Gay, Lesbi...       NaN   \n",
      "1   ...  EMPLOYMENT/TRAINING SERVICES, Job Development,...       NaN   \n",
      "9   ...  EDUCATION SERVICES, Library, Libraries, Public...       NaN   \n",
      "22  ...         Ruby on Rails/Postgres/Redis, testing, wic       NaN   \n",
      "19  ...                                                NaN       NaN   \n",
      "20  ...                                                NaN       NaN   \n",
      "\n",
      "                                    name  \\\n",
      "0        Fair Oaks Adult Activity Center   \n",
      "18         San Mateo Free Medical Clinic   \n",
      "17                         Project Smile   \n",
      "16     South San Francisco Citadel Corps   \n",
      "15                       Sunnyvale Corps   \n",
      "14           Adult Rehabilitation Center   \n",
      "13                    Redwood City Corps   \n",
      "12                 Redwood Shores Branch   \n",
      "21                       Passport Photos   \n",
      "10                       Schaberg Branch   \n",
      "11                          Project Read   \n",
      "8                       Fair Oaks Branch   \n",
      "7         Meals on Wheels - South County   \n",
      "6       Rosener House Adult Day Services   \n",
      "5   Little House Recreational Activities   \n",
      "4      Economic Self-Sufficiency Program   \n",
      "3               Family Visitation Center   \n",
      "2                 Senior Peer Counseling   \n",
      "1       Second Career Employment Program   \n",
      "9                           Main Library   \n",
      "22                  Example Service Name   \n",
      "19             Service with blank fields   \n",
      "20       Service for Admin Test Location   \n",
      "\n",
      "                          required_documents  \\\n",
      "0                                        NaN   \n",
      "18                                       NaN   \n",
      "17                                       NaN   \n",
      "16                                       NaN   \n",
      "15                                       NaN   \n",
      "14                                       NaN   \n",
      "13                                       NaN   \n",
      "12                                       NaN   \n",
      "21  Government-issued picture identification   \n",
      "10                                       NaN   \n",
      "11                                       NaN   \n",
      "8                                        NaN   \n",
      "7                                        NaN   \n",
      "6                                        NaN   \n",
      "5                                        NaN   \n",
      "4                                        NaN   \n",
      "3                                        NaN   \n",
      "2                                        NaN   \n",
      "1                                        NaN   \n",
      "9                                        NaN   \n",
      "22                                       NaN   \n",
      "19                                       NaN   \n",
      "20                                       NaN   \n",
      "\n",
      "                            service_areas    status  \\\n",
      "0                                   Colma    active   \n",
      "18                    Belmont, Burlingame    active   \n",
      "17                         East Palo Alto    active   \n",
      "16  Colma, Daly City, South San Francisco    active   \n",
      "15                                    NaN    active   \n",
      "14       Alameda County, San Mateo County    active   \n",
      "13    Belmont, Burlingame, East Palo Alto    active   \n",
      "12                       San Mateo County    active   \n",
      "21       Alameda County, San Mateo County    active   \n",
      "10                       San Mateo County    active   \n",
      "11                              Daly City    active   \n",
      "8                        San Mateo County    active   \n",
      "7                 Belmont, East Palo Alto    active   \n",
      "6     Belmont, Burlingame, East Palo Alto    active   \n",
      "5                        San Mateo County    active   \n",
      "4                        San Mateo County    active   \n",
      "3                        San Mateo County    active   \n",
      "2                        San Mateo County    active   \n",
      "1                        San Mateo County    active   \n",
      "9                        San Mateo County    active   \n",
      "22       San Mateo County, Alameda County    active   \n",
      "19                                    NaN   defunct   \n",
      "20                       San Mateo County  inactive   \n",
      "\n",
      "                                            wait_time                 website  \\\n",
      "0                                            No wait.                     NaN   \n",
      "18                                            Varies.                     NaN   \n",
      "17                                            Varies.                     NaN   \n",
      "16                                                NaN                     NaN   \n",
      "15                                           No wait.                     NaN   \n",
      "14  Varies according to available beds for men and...                     NaN   \n",
      "13                                  Up to 20 minutes.                     NaN   \n",
      "12                                           No wait.                     NaN   \n",
      "21                                No wait to 2 weeks.  http://www.example.com   \n",
      "10                                           No wait.                     NaN   \n",
      "11  Depends on availability of tutors for small gr...                     NaN   \n",
      "8                                            No wait.                     NaN   \n",
      "7                                            No wait.                     NaN   \n",
      "6                                            No wait.                     NaN   \n",
      "5                                            No wait.                     NaN   \n",
      "4                                                 NaN                     NaN   \n",
      "3                                            No wait.                     NaN   \n",
      "2                                             Varies.                     NaN   \n",
      "1                                             Varies.                     NaN   \n",
      "9                                            No wait.                     NaN   \n",
      "22                                 No wait to 2 weeks  http://www.example.com   \n",
      "19                                                NaN                     NaN   \n",
      "20                                                NaN                     NaN   \n",
      "\n",
      "                                taxonomy_ids       Date  \n",
      "0                                        NaN  5/24/2023  \n",
      "18                                       NaN  6/11/2023  \n",
      "17                                       NaN  6/10/2023  \n",
      "16                                       NaN   6/9/2023  \n",
      "15                                       NaN   6/8/2023  \n",
      "14                                       NaN   6/7/2023  \n",
      "13                                       NaN   6/6/2023  \n",
      "12                                       NaN   6/5/2023  \n",
      "21  105, 108, 108-05, 108-05-01, 111, 111-05  6/14/2023  \n",
      "10                                       NaN   6/3/2023  \n",
      "11                                       NaN   6/4/2023  \n",
      "8                                        NaN   6/1/2023  \n",
      "7                                        NaN  5/31/2023  \n",
      "6                                        NaN  5/30/2023  \n",
      "5                                        NaN  5/29/2023  \n",
      "4                                        NaN  5/28/2023  \n",
      "3                                        NaN  5/27/2023  \n",
      "2                                        NaN  5/26/2023  \n",
      "1                                        NaN  5/25/2023  \n",
      "9                                        NaN   6/2/2023  \n",
      "22                                       NaN  6/15/2023  \n",
      "19                                       NaN  6/12/2023  \n",
      "20                                       NaN  6/13/2023  \n",
      "\n",
      "[23 rows x 23 columns]\n"
     ]
    }
   ],
   "source": [
    "import pandas as pd\n",
    "\n",
    "# Prompt the user for the file path\n",
    "file_path = input(\"Enter the path to the CSV file: \")\n",
    "\n",
    "try:\n",
    "    # Read the CSV file into a DataFrame\n",
    "    df = pd.read_csv(file_path)\n",
    "\n",
    "    # Prompt the user for the column name to convert to categorical\n",
    "    column_name = input(\"Enter the name of the column to convert to categorical: \")\n",
    "\n",
    "    # Convert the specified column to categorical\n",
    "    df[column_name] = pd.Categorical(df[column_name])\n",
    "\n",
    "    # Prompt the user to specify category order (optional)\n",
    "    category_order = input(\"Enter the category order (comma-separated, optional): \")\n",
    "    if category_order:\n",
    "        category_order = [cat.strip() for cat in category_order.split(',')]\n",
    "        df[column_name] = pd.Categorical(df[column_name], categories=category_order, ordered=True)\n",
    "\n",
    "    # Sort the DataFrame based on the categorical column\n",
    "    sorted_df = df.sort_values(by=column_name)\n",
    "\n",
    "    # Display the sorted data\n",
    "    print(\"\\nSorted Data:\")\n",
    "    print(sorted_df)\n",
    "\n",
    "except FileNotFoundError:\n",
    "    print(\"File not found. Please provide a valid file path.\")\n",
    "except KeyError:\n",
    "    print(f\"Column '{column_name}' not found in the CSV file.\")\n"
   ]
  },
  {
   "cell_type": "markdown",
   "id": "d42a0cb1",
   "metadata": {},
   "source": [
    "#### Q10. Write a Python program that reads a CSV file containing sales data for different products and visualizes the data using a stacked bar chart to show the sales of each product category over time. The program should prompt the user to enter the file path and display the chart."
   ]
  },
  {
   "cell_type": "code",
   "execution_count": 55,
   "id": "2fce33f6",
   "metadata": {},
   "outputs": [
    {
     "name": "stdout",
     "output_type": "stream",
     "text": [
      "Enter the path to the CSV file: C:\\Users\\ADOWUONA-OWOO\\Desktop\\Python\\services.csv\n",
      "Enter the name of the date column: Date\n",
      "Enter the name of the product category column: status\n",
      "Invalid column name. Please check the column names in the CSV file.\n"
     ]
    }
   ],
   "source": [
    "import pandas as pd\n",
    "import matplotlib.pyplot as plt\n",
    "\n",
    "# Prompt the user for the file path\n",
    "file_path = input(\"Enter the path to the CSV file: \")\n",
    "\n",
    "try:\n",
    "    # Read the CSV file into a DataFrame\n",
    "    df = pd.read_csv(file_path)\n",
    "\n",
    "    # Prompt the user for the date and product category columns\n",
    "    date_column = input(\"Enter the name of the date column: \")\n",
    "    category_column = input(\"Enter the name of the product category column: \")\n",
    "\n",
    "    # Group and aggregate data to create a pivot table\n",
    "    pivot_table = df.pivot_table(index=date_column, columns=category_column, values='sales', aggfunc='sum')\n",
    "\n",
    "    # Create a stacked bar chart\n",
    "    pivot_table.plot(kind='bar', stacked=True, figsize=(10, 6))\n",
    "\n",
    "    # Customize the chart\n",
    "    plt.title('Stacked Bar Chart of Sales by Product Category Over Time')\n",
    "    plt.xlabel(date_column)\n",
    "    plt.ylabel('Sales')\n",
    "    plt.legend(title=category_column, loc='upper right')\n",
    "\n",
    "    # Display the chart\n",
    "    plt.show()\n",
    "\n",
    "except FileNotFoundError:\n",
    "    print(\"File not found. Please provide a valid file path.\")\n",
    "except KeyError:\n",
    "    print(\"Invalid column name. Please check the column names in the CSV file.\")\n"
   ]
  },
  {
   "cell_type": "markdown",
   "id": "fb9e4840",
   "metadata": {},
   "source": [
    "#### Q11. You are given a CSV file containing student data that includes the student ID and their test score. Write a Python program that reads the CSV file, calculates the mean, median, and mode of the test scores, and displays the results in a table.\n",
    "\n",
    "The program should do the followingM\n",
    " * I Prompt the user to enter the file path of the CSV file containing the student dataR\n",
    " * I Read the CSV file into a Pandas DataFrameR\n",
    " * I Calculate the mean, median, and mode of the test scores using Pandas toolsR\n",
    " * I Display the mean, median, and mode in a table.\n",
    "\n",
    "Assume the CSV file contains the following columnsM\n",
    " * I Student ID: The ID of the studentR\n",
    " * I Test Score: The score of the student's test.\n",
    "\n",
    "Example usage of the program:\n",
    "Enter the file path of the CSV file containing the student data: student_data.csv\n",
    "+-----------+--------+\n",
    "| Statistic | Value |\n",
    "+-----------+--------+\n",
    "| Mean | 79.6 |\n",
    "| Median | 82 |\n",
    "| Mode | 85, 90 |\n",
    "+-----------+--------+\n",
    "\n",
    "\n",
    "Assume that the CSV file student_data.csv contains the following data:\n",
    "Student_ID,Test_Score\n",
    "1,85\n",
    "2,90\n",
    "3,80\n",
    "4,75\n",
    "5,85\n",
    "6,82\n",
    "7,78\n",
    "8,85\n",
    "9,90\n",
    "10,85\n",
    "The program should calculate the mean, median, and mode of the test scores and display the results\n",
    "in a table."
   ]
  },
  {
   "cell_type": "code",
   "execution_count": 56,
   "id": "8e681df9",
   "metadata": {},
   "outputs": [
    {
     "name": "stdout",
     "output_type": "stream",
     "text": [
      "Requirement already satisfied: pandas in c:\\users\\adowuona-owoo\\anaconda3\\lib\\site-packages (1.4.4)\n",
      "Requirement already satisfied: tabulate in c:\\users\\adowuona-owoo\\anaconda3\\lib\\site-packages (0.8.10)\n",
      "Requirement already satisfied: pytz>=2020.1 in c:\\users\\adowuona-owoo\\anaconda3\\lib\\site-packages (from pandas) (2022.1)\n",
      "Requirement already satisfied: numpy>=1.18.5 in c:\\users\\adowuona-owoo\\anaconda3\\lib\\site-packages (from pandas) (1.21.5)\n",
      "Requirement already satisfied: python-dateutil>=2.8.1 in c:\\users\\adowuona-owoo\\anaconda3\\lib\\site-packages (from pandas) (2.8.2)\n",
      "Requirement already satisfied: six>=1.5 in c:\\users\\adowuona-owoo\\anaconda3\\lib\\site-packages (from python-dateutil>=2.8.1->pandas) (1.16.0)\n",
      "Note: you may need to restart the kernel to use updated packages.\n"
     ]
    }
   ],
   "source": [
    "pip install pandas tabulate"
   ]
  },
  {
   "cell_type": "code",
   "execution_count": 6,
   "id": "6ed2cc65",
   "metadata": {},
   "outputs": [
    {
     "name": "stdout",
     "output_type": "stream",
     "text": [
      "Enter the file path of the CSV file containing the student data: C:\\Users\\ADOWUONA-OWOO\\Desktop\\Python\\Students.csv\n",
      "+-------------+---------+\n",
      "| Statistic   |   Value |\n",
      "+=============+=========+\n",
      "| Mean        |    83.5 |\n",
      "+-------------+---------+\n",
      "| Median      |    85   |\n",
      "+-------------+---------+\n",
      "| Mode        |    85   |\n",
      "+-------------+---------+\n"
     ]
    }
   ],
   "source": [
    "import pandas as pd\n",
    "from tabulate import tabulate\n",
    "\n",
    "# Prompt the user for the file path of the CSV file containing student data\n",
    "file_path = input(\"Enter the file path of the CSV file containing the student data: \")\n",
    "\n",
    "try:\n",
    "    # Read the CSV file into a Pandas DataFrame\n",
    "    df = pd.read_csv(file_path)\n",
    "\n",
    "    # Calculate the mean, median, and mode of the test scores\n",
    "    mean_score = df['Test_Score'].mean()\n",
    "    median_score = df['Test_Score'].median()\n",
    "    mode_scores = df['Test_Score'].mode().tolist()\n",
    "\n",
    "    # Create a table to display the results\n",
    "    result_table = [\n",
    "        [\"Statistic\", \"Value\"],\n",
    "        [\"Mean\", mean_score],\n",
    "        [\"Median\", median_score],\n",
    "        [\"Mode\", \", \".join(map(str, mode_scores))]\n",
    "    ]\n",
    "\n",
    "    # Display the table\n",
    "    table = tabulate(result_table, headers=\"firstrow\", tablefmt=\"grid\")\n",
    "    print(table)\n",
    "\n",
    "except FileNotFoundError:\n",
    "    print(\"File not found. Please provide a valid file path.\")\n",
    "except KeyError:\n",
    "    print(\"Invalid column names. Please check the column names in the CSV file.\")\n"
   ]
  },
  {
   "cell_type": "code",
   "execution_count": null,
   "id": "e4fb9b29",
   "metadata": {},
   "outputs": [],
   "source": []
  },
  {
   "cell_type": "code",
   "execution_count": null,
   "id": "5a91ffae",
   "metadata": {},
   "outputs": [],
   "source": []
  },
  {
   "cell_type": "code",
   "execution_count": null,
   "id": "efe69e40",
   "metadata": {},
   "outputs": [],
   "source": []
  }
 ],
 "metadata": {
  "kernelspec": {
   "display_name": "Python 3 (ipykernel)",
   "language": "python",
   "name": "python3"
  },
  "language_info": {
   "codemirror_mode": {
    "name": "ipython",
    "version": 3
   },
   "file_extension": ".py",
   "mimetype": "text/x-python",
   "name": "python",
   "nbconvert_exporter": "python",
   "pygments_lexer": "ipython3",
   "version": "3.9.13"
  }
 },
 "nbformat": 4,
 "nbformat_minor": 5
}
